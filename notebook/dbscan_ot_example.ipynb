{
 "cells": [
  {
   "cell_type": "markdown",
   "id": "cda8efd8-92ef-4320-a221-cac67b6c3ba5",
   "metadata": {},
   "source": [
    "# Example for using dbscan_ot module\n",
    "## This notebook includes:\n",
    "### 1) DBSCAN clustering of cells\n",
    "### 2) Visualization of clustered cells\n",
    "### 2) Optimal transport between cell clusters\n",
    "### 3) Wilcoxon tests of LR pairs\n",
    "### 4) Permutation tests of LR pairs\n",
    "### 5) Visualization of LR pairs in FOVs"
   ]
  },
  {
   "cell_type": "code",
   "execution_count": 113,
   "id": "154c0df3-3703-4659-83d5-69144820c5ce",
   "metadata": {},
   "outputs": [],
   "source": [
    "import numpy as np\n",
    "import pandas as pd\n",
    "import seaborn as sns\n",
    "import matplotlib.pyplot as plt\n",
    "from matplotlib import cm\n",
    "from scipy.spatial import distance_matrix\n",
    "from scipy.stats import ranksums\n",
    "from matplotlib.collections import LineCollection\n",
    "from statsmodels.stats.multitest import multipletests\n",
    "#import imp\n",
    "#imp.reload(dbscan_ot)\n",
    "import warnings\n",
    "warnings.filterwarnings(\"ignore\")\n",
    "import sys"
   ]
  },
  {
   "cell_type": "code",
   "execution_count": 111,
   "id": "10cafba7-8622-4457-8af1-d54cf7ca478d",
   "metadata": {},
   "outputs": [
    {
     "data": {
      "text/plain": [
       "<module 'dbscan_ot' from '/data/hemberg/jingyi/project/1.pdac/scripts/dbscan_ot_py/dbscan_ot.py'>"
      ]
     },
     "execution_count": 111,
     "metadata": {},
     "output_type": "execute_result"
    }
   ],
   "source": [
    "import imp\n",
    "imp.reload(dbscan_ot)"
   ]
  },
  {
   "cell_type": "code",
   "execution_count": 2,
   "id": "746f13e4-0b2e-414b-9ea2-dfdd7ea895e7",
   "metadata": {},
   "outputs": [],
   "source": [
    "def read_data(file):\n",
    "    try:\n",
    "        df = pd.read_csv(file, header = 0, index_col=None, sep = \"\\t\")\n",
    "    except:\n",
    "        df = pd.DataFrame()\n",
    "    return df"
   ]
  },
  {
   "cell_type": "code",
   "execution_count": 5,
   "id": "fa2d11b0-bc9d-4063-9435-1f3b2c110081",
   "metadata": {},
   "outputs": [],
   "source": [
    "#insert the directory of dbscan_ot module\n",
    "#sys.path.insert(0, 'your_path_for_dbscan_ot_py_module')\n",
    "sys.path.insert(0, '/data/hemberg/jingyi/project/1.pdac/scripts/dbscan_ot_py/')\n",
    "\n",
    "import dbscan_ot"
   ]
  },
  {
   "cell_type": "code",
   "execution_count": 6,
   "id": "fbfaaef9",
   "metadata": {},
   "outputs": [],
   "source": [
    "#set your workspace directory\n",
    "#datap = 'your_workspace_path'\n",
    "datap = '/data/hemberg/jingyi/project/1.pdac/scripts/dbscan_ot_py/'"
   ]
  },
  {
   "cell_type": "code",
   "execution_count": 105,
   "id": "1942d41d-5caf-49f1-9424-6bed0ac4c3aa",
   "metadata": {},
   "outputs": [
    {
     "name": "stdout",
     "output_type": "stream",
     "text": [
      "   cell_id  fov    annotation  x_positions  y_positions\n",
      "0       32    0     Erythroid     5.430265    78.970097\n",
      "1       33    0     Erythroid     4.793709    53.400197\n",
      "2       34    0  Erythroidpro     6.537603    70.608490\n",
      "3       36    0  Erythroidpro     5.251069    28.633126\n",
      "4       37    0     Erythroid     5.955340    43.295323\n",
      "   cell_id  fov  Cd34  Kit  Ctnnal1  Mecom  Runx1  Ddx4  Angpt1  Pecam1  ...  \\\n",
      "0       32    0     0    0        2      0      0     0       0       0  ...   \n",
      "1       33    0     0    1        0      0      0     0       0       0  ...   \n",
      "2       34    0     0    0        0      0      0     0       0       0  ...   \n",
      "3       36    0     0    2        0      0      0     0       0       0  ...   \n",
      "4       37    0     0    0        0      0      0     0       0       0  ...   \n",
      "\n",
      "   Sfrp2  Tcf7  Tcf7l1  Wnt2  Wnt4  Mpp1  Dll4  Rbpj  Gata3  Meis1  \n",
      "0      0     0       0     1     9     0     0     0      0      0  \n",
      "1      0     0       0     1     3     0     0     1      0      0  \n",
      "2      0     0       0     0     3     0     0     1      0      1  \n",
      "3      0     0       0     0     0     0     0     0      0      0  \n",
      "4      0     0       0     0     0     0     0     0      0      0  \n",
      "\n",
      "[5 rows x 142 columns]\n",
      "   l_gene r_gene\n",
      "0  Angpt1    Tek\n",
      "1  Angpt2    Tek\n",
      "2    Kitl    Kit\n",
      "3    Cd34   Selp\n",
      "4    Cdh5   Cdh5\n"
     ]
    }
   ],
   "source": [
    "#load input: metatable, count matrix, ligand-receptor pairs\n",
    "group = 'mut'\n",
    "#group = 'wt'\n",
    "\n",
    "#metabale should includes cell_ids, fov_ids, annotation, and cell coordinates\n",
    "meta_df = pd.read_csv(datap+'example/'+group+'_meta_data.txt',sep='\\t',index_col=None)\n",
    "print(meta_df.head())\n",
    "\n",
    "#count matix\n",
    "exp_df = pd.read_csv(datap+'example/'+group+'_exp_matrix.txt',sep='\\t',index_col=None)\n",
    "print(exp_df.head())\n",
    "\n",
    "#known LR pairs\n",
    "known_lr_pairs = pd.read_csv(datap+'example/lr_gene.list', sep = '\\t', header = None, index_col = None)\n",
    "known_lr_pairs.columns = ['l_gene','r_gene']\n",
    "print(known_lr_pairs.head())"
   ]
  },
  {
   "cell_type": "code",
   "execution_count": 10,
   "id": "3c080aa5-c36f-466b-92cf-ea904000565b",
   "metadata": {
    "collapsed": true,
    "jupyter": {
     "outputs_hidden": true
    },
    "tags": []
   },
   "outputs": [
    {
     "name": "stdout",
     "output_type": "stream",
     "text": [
      "9\n",
      "SEC\n",
      "eps: 35\n",
      "Erythroidpro\n"
     ]
    },
    {
     "name": "stderr",
     "output_type": "stream",
     "text": [
      "WARNING: n_obs too small: adjusting to `n_neighbors = 4`\n",
      "WARNING: n_obs too small: adjusting to `n_neighbors = 4`\n"
     ]
    },
    {
     "name": "stdout",
     "output_type": "stream",
     "text": [
      "eps: 24\n",
      "Myeloid\n"
     ]
    },
    {
     "name": "stderr",
     "output_type": "stream",
     "text": [
      "WARNING: n_obs too small: adjusting to `n_neighbors = 4`\n",
      "WARNING: n_obs too small: adjusting to `n_neighbors = 4`\n",
      "WARNING: n_obs too small: adjusting to `n_neighbors = 4`\n",
      "WARNING: n_obs too small: adjusting to `n_neighbors = 4`\n",
      "WARNING: n_obs too small: adjusting to `n_neighbors = 4`\n",
      "WARNING: n_obs too small: adjusting to `n_neighbors = 4`\n",
      "WARNING: n_obs too small: adjusting to `n_neighbors = 4`\n",
      "WARNING: n_obs too small: adjusting to `n_neighbors = 4`\n",
      "WARNING: n_obs too small: adjusting to `n_neighbors = 4`\n",
      "WARNING: n_obs too small: adjusting to `n_neighbors = 4`\n",
      "WARNING: n_obs too small: adjusting to `n_neighbors = 4`\n",
      "WARNING: n_obs too small: adjusting to `n_neighbors = 4`\n",
      "WARNING: n_obs too small: adjusting to `n_neighbors = 4`\n",
      "WARNING: n_obs too small: adjusting to `n_neighbors = 4`\n",
      "WARNING: n_obs too small: adjusting to `n_neighbors = 4`\n",
      "WARNING: n_obs too small: adjusting to `n_neighbors = 4`\n",
      "WARNING: n_obs too small: adjusting to `n_neighbors = 4`\n",
      "WARNING: n_obs too small: adjusting to `n_neighbors = 4`\n",
      "WARNING: n_obs too small: adjusting to `n_neighbors = 4`\n",
      "WARNING: n_obs too small: adjusting to `n_neighbors = 4`\n",
      "WARNING: n_obs too small: adjusting to `n_neighbors = 4`\n",
      "WARNING: n_obs too small: adjusting to `n_neighbors = 4`\n",
      "WARNING: n_obs too small: adjusting to `n_neighbors = 4`\n",
      "WARNING: n_obs too small: adjusting to `n_neighbors = 4`\n",
      "WARNING: n_obs too small: adjusting to `n_neighbors = 4`\n",
      "WARNING: n_obs too small: adjusting to `n_neighbors = 4`\n",
      "WARNING: n_obs too small: adjusting to `n_neighbors = 4`\n",
      "WARNING: n_obs too small: adjusting to `n_neighbors = 4`\n",
      "WARNING: n_obs too small: adjusting to `n_neighbors = 4`\n",
      "WARNING: n_obs too small: adjusting to `n_neighbors = 4`\n",
      "WARNING: n_obs too small: adjusting to `n_neighbors = 4`\n",
      "WARNING: n_obs too small: adjusting to `n_neighbors = 4`\n",
      "WARNING: n_obs too small: adjusting to `n_neighbors = 4`\n",
      "WARNING: n_obs too small: adjusting to `n_neighbors = 4`\n",
      "WARNING: n_obs too small: adjusting to `n_neighbors = 4`\n",
      "WARNING: n_obs too small: adjusting to `n_neighbors = 4`\n",
      "WARNING: n_obs too small: adjusting to `n_neighbors = 4`\n",
      "WARNING: n_obs too small: adjusting to `n_neighbors = 4`\n",
      "WARNING: n_obs too small: adjusting to `n_neighbors = 4`\n",
      "WARNING: n_obs too small: adjusting to `n_neighbors = 4`\n",
      "WARNING: n_obs too small: adjusting to `n_neighbors = 4`\n",
      "WARNING: n_obs too small: adjusting to `n_neighbors = 4`\n",
      "WARNING: n_obs too small: adjusting to `n_neighbors = 4`\n",
      "WARNING: n_obs too small: adjusting to `n_neighbors = 4`\n",
      "WARNING: n_obs too small: adjusting to `n_neighbors = 4`\n",
      "WARNING: n_obs too small: adjusting to `n_neighbors = 4`\n",
      "WARNING: n_obs too small: adjusting to `n_neighbors = 4`\n",
      "WARNING: n_obs too small: adjusting to `n_neighbors = 4`\n",
      "WARNING: n_obs too small: adjusting to `n_neighbors = 4`\n",
      "WARNING: n_obs too small: adjusting to `n_neighbors = 4`\n",
      "WARNING: n_obs too small: adjusting to `n_neighbors = 4`\n",
      "WARNING: n_obs too small: adjusting to `n_neighbors = 4`\n",
      "WARNING: n_obs too small: adjusting to `n_neighbors = 4`\n",
      "WARNING: n_obs too small: adjusting to `n_neighbors = 4`\n",
      "WARNING: n_obs too small: adjusting to `n_neighbors = 4`\n",
      "WARNING: n_obs too small: adjusting to `n_neighbors = 4`\n",
      "WARNING: n_obs too small: adjusting to `n_neighbors = 4`\n"
     ]
    },
    {
     "name": "stdout",
     "output_type": "stream",
     "text": [
      "Hepatocyte\n",
      "eps: 28\n",
      "Erythroid\n",
      "eps: 17\n"
     ]
    }
   ],
   "source": [
    "#get DBSCAN cell clusters\n",
    "#for fov in set(meta_df['fov']):\n",
    "for fov in [9]:\n",
    "    print(fov)\n",
    "    celltype = []\n",
    "    cell_idx = []\n",
    "    meta_df_fov = meta_df[meta_df['fov']==fov]\n",
    "    meta_df_fov['index'] = range(meta_df_fov.shape[0])\n",
    "\n",
    "    cell_type_l = list(set(meta_df_fov['annotation']))\n",
    "    for ct in cell_type_l:\n",
    "        ###cluster cells\n",
    "        #print(ct)\n",
    "        meta_df_sel = meta_df_fov[meta_df_fov['annotation']==ct]\n",
    "        X = np.array(meta_df_sel[['x_positions','y_positions']])\n",
    "        if X.shape[0] >= 5:\n",
    "            print(ct)\n",
    "            cluster_l, idx_l, fi_eps = dbscan_ot.bdscan_ff_cell(X, X_index_arr=np.array(meta_df_sel['index']),min_cluster_size=5,eps_l = list(range(10,50,1)))\n",
    "            if len(cluster_l)>0:\n",
    "                celltype += [ct for x in cluster_l]\n",
    "                cell_idx += idx_l\n",
    "    tmp_df = pd.DataFrame([celltype,cell_idx]).T\n",
    "    np.save(datap+'example/output/clustering/'+group+'_fov_'+str(fov)+'_dbscan.cell.clusters.test',tmp_df)"
   ]
  },
  {
   "cell_type": "code",
   "execution_count": 11,
   "id": "efb88e7b-4b89-4b3c-bcc2-26768246833f",
   "metadata": {
    "collapsed": true,
    "jupyter": {
     "outputs_hidden": true
    },
    "tags": []
   },
   "outputs": [
    {
     "name": "stdout",
     "output_type": "stream",
     "text": [
      "9\n",
      "Hepatocyte\n"
     ]
    },
    {
     "data": {
      "image/png": "[encoded data removed]",
      "text/plain": [
       "<Figure size 360x360 with 1 Axes>"
      ]
     },
     "metadata": {
      "needs_background": "light"
     },
     "output_type": "display_data"
    },
    {
     "name": "stdout",
     "output_type": "stream",
     "text": [
      "Erythroid\n"
     ]
    },
    {
     "data": {
      "image/png": "[encoded data removed]",
      "text/plain": [
       "<Figure size 360x360 with 1 Axes>"
      ]
     },
     "metadata": {
      "needs_background": "light"
     },
     "output_type": "display_data"
    },
    {
     "name": "stdout",
     "output_type": "stream",
     "text": [
      "SEC\n"
     ]
    },
    {
     "data": {
      "image/png": "[encoded data removed]",
      "text/plain": [
       "<Figure size 360x360 with 1 Axes>"
      ]
     },
     "metadata": {
      "needs_background": "light"
     },
     "output_type": "display_data"
    },
    {
     "name": "stdout",
     "output_type": "stream",
     "text": [
      "Erythroidpro\n"
     ]
    },
    {
     "data": {
      "image/png": "[encoded data removed]",
      "text/plain": [
       "<Figure size 360x360 with 1 Axes>"
      ]
     },
     "metadata": {
      "needs_background": "light"
     },
     "output_type": "display_data"
    }
   ],
   "source": [
    "#visualization of DBSCAN clustering result\n",
    "#for fov in set(meta_df['fov']):\n",
    "for fov in [9]:\n",
    "    print(fov)\n",
    "    #clustering result\n",
    "    cluster_df = pd.DataFrame(np.load(datap+'example/output/clustering/'+group+'_fov_'+str(fov)+'_dbscan.cell.clusters.test.npy',allow_pickle=True))\n",
    "    cluster_df.columns = ['cell_type','cell_idx']\n",
    "    \n",
    "    meta_df_fov = meta_df[meta_df['fov']==fov]\n",
    "    meta_df_fov.index = range(meta_df_fov.shape[0])\n",
    "    cell_type_l = list(set(cluster_df['cell_type']))\n",
    "    for ct in cell_type_l:\n",
    "        print(ct)\n",
    "        plt.figure(figsize=(5,5))\n",
    "        #plot all ct cells\n",
    "        meta_df_sel = meta_df_fov[meta_df_fov['annotation']==ct]\n",
    "        X_sel = np.array(meta_df_sel[['x_positions','y_positions']])\n",
    "        plt.scatter(X_sel[:,0],X_sel[:,1],c = 'grey',s = 5)\n",
    "        \n",
    "        #higlight clusters for ct cells\n",
    "        tmp_ct = cluster_df[cluster_df['cell_type']==ct]\n",
    "        colors = cm.rainbow(np.linspace(0, 1, tmp_ct.shape[0]))\n",
    "\n",
    "        for n,line in enumerate(tmp_ct['cell_idx']):\n",
    "            X = np.array(meta_df_fov.loc[line][['x_positions','y_positions']])\n",
    "            plt.scatter(X[:,0],X[:,1],color =colors[n],s = 15)\n",
    "        plt.savefig(datap+'example/output/Figs/'+group+'_fov_'+str(fov)+\"_\"+ct+\".cluster.pdf\", dpi=100, tansparent=True)\n",
    "        plt.show()"
   ]
  },
  {
   "cell_type": "code",
   "execution_count": 50,
   "id": "f3679030",
   "metadata": {},
   "outputs": [
    {
     "name": "stdout",
     "output_type": "stream",
     "text": [
      "0\n",
      "1\n",
      "2\n",
      "3\n",
      "4\n",
      "5\n",
      "6\n",
      "7\n",
      "8\n",
      "10\n",
      "11\n",
      "12\n",
      "13\n",
      "14\n",
      "15\n",
      "16\n",
      "17\n",
      "18\n",
      "19\n",
      "20\n"
     ]
    }
   ],
   "source": [
    "#ot \n",
    "#gene expression normalization factor\n",
    "exp_df_all = pd.read_csv(datap+'example/wt_mut_exp_matrix.txt',sep='\\t',index_col=None)\n",
    "exp_df_norm = exp_df_all.iloc[:,2:]\n",
    "exp_df_norm = exp_df_norm[exp_df_norm>0]\n",
    "df_quantile = exp_df_norm.quantile(q=0.99,axis = 0) \n",
    "\n",
    "for fov in set(meta_df['fov']):\n",
    "#for fov in [9]:\n",
    "    print(fov)\n",
    "    #clustering result\n",
    "    cluster_df = pd.DataFrame(np.load(datap+'example/output/clustering/'+group+'_fov_'+str(fov)+'_dbscan.cell.clusters.test.npy',allow_pickle=True))\n",
    "    cluster_df.columns = ['cell_type','cell_idx']\n",
    "    \n",
    "    #coordinates\n",
    "    meta_df_fov = meta_df[meta_df['fov']==fov]\n",
    "    meta_df_fov.index = range(meta_df_fov.shape[0])\n",
    "    cell_id_all = np.array(range(meta_df_fov.shape[0]))\n",
    "    coord = np.array(meta_df_fov[['x_positions','y_positions']])\n",
    "    S_all_arr = distance_matrix(coord,coord)\n",
    "    \n",
    "    #expression\n",
    "    exp_df_fov = exp_df[exp_df['fov']==fov].iloc[:,2:]\n",
    "    exp_df_fov = exp_df_fov/df_quantile\n",
    "    exp_df_fov[exp_df_fov>1]=1\n",
    "    exp_df_fov.index = cell_id_all\n",
    "\n",
    "    #select potentially communicating cell cluster pairs (spatially adjacent)\n",
    "    S_all_arr_new = dbscan_ot.sel_pot_inter_cluster_pairs(S_all_arr,cluster_df)\n",
    "\n",
    "    #optimal transport between source and target cells\n",
    "    ga_df_final = dbscan_ot.source_target_ot(S_all_arr_new, exp_df_fov, meta_df_fov, known_lr_pairs)\n",
    "    if ga_df_final.shape[0]>0:\n",
    "        ga_df_final.columns = ['source_cell_idx','receptor_cell_idx','likelihood','ligand_recptor','source_cell_type','target_cell_type']\n",
    "        ga_df_final.to_csv(datap+'example/output/ot/'+group+'_fov_'+str(fov)+\".ot.csv\",header = True, index = False, sep = \"\\t\")\n",
    "\n",
    "        #post-processing of ot results by calculating averaged likelihoods\n",
    "        ga_df_final['cell_pairs'] = ga_df_final['source_cell_type']+\"_\"+ga_df_final['target_cell_type']\n",
    "        final_summary = dbscan_ot.post_ot(ga_df_final,label=group)\n",
    "        final_summary.to_csv(datap+'example/output/ot/summary/'+group+'_fov_'+str(fov)+\".ot.csv\",header = True, index = False, sep = \"\\t\")\n",
    "    "
   ]
  },
  {
   "cell_type": "code",
   "execution_count": 82,
   "id": "54bcd69c-3636-4bef-a6c1-b2ddd4044ff2",
   "metadata": {},
   "outputs": [
    {
     "data": {
      "text/plain": [
       "[Text(0, 0, 'Dll1_Notch4'),\n",
       " Text(1, 0, 'Dll1_Notch2'),\n",
       " Text(2, 0, 'Kitl_Kit'),\n",
       " Text(3, 0, 'Jag2_Notch4'),\n",
       " Text(4, 0, 'Jag2_Notch2'),\n",
       " Text(5, 0, 'Dll4_Notch2'),\n",
       " Text(6, 0, 'Jag2_Notch1'),\n",
       " Text(7, 0, 'Efnb2_Ephb4'),\n",
       " Text(8, 0, 'Jag1_Notch2'),\n",
       " Text(9, 0, 'Dll1_Notch1'),\n",
       " Text(10, 0, 'Angpt2_Tek'),\n",
       " Text(11, 0, 'Jag1_Notch4')]"
      ]
     },
     "execution_count": 82,
     "metadata": {},
     "output_type": "execute_result"
    },
    {
     "data": {
      "image/png": "[encoded data removed]",
      "text/plain": [
       "<Figure size 1440x360 with 1 Axes>"
      ]
     },
     "metadata": {
      "needs_background": "light"
     },
     "output_type": "display_data"
    }
   ],
   "source": [
    "###summarize ot result\n",
    "c_t_1 = 'Hepatocyte'\n",
    "c_t_2 = 'Erythroidpro'\n",
    "\n",
    "\n",
    "df_summary = pd.DataFrame([])\n",
    "for label in ['wt','mut']:\n",
    "    for fov in range(20):\n",
    "        df_summary_tmp = read_data(datap+'example/output/ot/summary/'+label+'_fov_'+str(fov)+\".ot.csv\")\n",
    "        if df_summary_tmp.shape[0]>0:\n",
    "            df_summary = pd.concat([df_summary,df_summary_tmp])\n",
    "            \n",
    "df_summary = df_summary[df_summary['ave_likelihood']>0.05]\n",
    "df_summary['sample_label'] = [x.split(\"|\")[1] for x in df_summary['label']]\n",
    "df_summary['lr_pairs'] = [x.split(\"|\")[0] for x in  df_summary['label']]\n",
    "df_summary['cell_pairs'] = [x.split(\"|\")[2] for x in  df_summary['label']]\n",
    "df_sel = df_summary[df_summary['cell_pairs']==c_t_1+\"_\"+c_t_2]\n",
    "order_list = (df_sel.groupby('lr_pairs')['ave_likelihood'].median().sort_values(ascending=False)).index\n",
    "df_summary_tmp = df_summary.set_index('lr_pairs')\n",
    "df_summary_tmp = df_summary_tmp.loc[order_list].reset_index()\n",
    "plt.figure(figsize=(20,5))\n",
    "ax1 = sns.boxplot(x='lr_pairs',y='ave_likelihood',hue='sample_label',data=df_summary_tmp)\n",
    "ax1.set_xticklabels(ax1.get_xticklabels(),rotation = 90)"
   ]
  },
  {
   "cell_type": "code",
   "execution_count": 83,
   "id": "100abcca",
   "metadata": {},
   "outputs": [],
   "source": [
    "#wilcoxon_test between wt and mut\n",
    "pvalue_dic = {}\n",
    "statictics_dic = {}\n",
    "fold_change = {}\n",
    "#fold_change_mean = {}\n",
    "\n",
    "likeli_wt = {}\n",
    "likeli_mut = {}\n",
    "\n",
    "\n",
    "for lr_pair in list(set(df_sel['lr_pairs'])):\n",
    "#for lr_pair in ['Jag2_Notch1']:\n",
    "    df_sum_fi_sel = df_sel[df_sel['lr_pairs']==lr_pair]\n",
    "    \n",
    "    df_ctrl =  df_sum_fi_sel[df_sum_fi_sel['sample_label']=='wt']\n",
    "    df_ctrl_groupby = df_ctrl.groupby(['label'])['ave_likelihood'].mean()\n",
    "    df_ctrl_size = df_ctrl.groupby(['label'])['ave_likelihood'].size()\n",
    "    df_ctrl_size = np.sum([x for x in df_ctrl_size if x <2])\n",
    "    \n",
    "    df_mut = df_sum_fi_sel[df_sum_fi_sel['sample_label']=='mut']\n",
    "    df_mut_groupby = df_mut.groupby(['label'])['ave_likelihood'].mean()\n",
    "    df_mut_size = df_mut.groupby(['label'])['ave_likelihood'].size()\n",
    "    df_mut_size = np.sum([x for x in df_mut_size if x <2])\n",
    "    \n",
    "    if len(set(df_ctrl['sample_label']))>=1 and len(set(df_mut['sample_label']))>=1 and df_ctrl_size<=1 and df_mut_size<=1:\n",
    "        \n",
    "        likeli_mut[lr_pair] = np.mean(df_mut['ave_likelihood'])\n",
    "        likeli_wt[lr_pair] = np.mean(df_ctrl['ave_likelihood'])\n",
    "    \n",
    "        log_fc = np.log10(np.mean(df_mut['ave_likelihood'])/np.mean(df_ctrl['ave_likelihood']))\n",
    "        fold_change[lr_pair] = log_fc\n",
    "        pvalue_dic[lr_pair] = ranksums(df_mut['ave_likelihood'],df_ctrl['ave_likelihood'])[1]\n",
    "\n",
    "p_l = [x if np.isnan(x)==False else 1.0 for x in pvalue_dic.values()]\n",
    "pvalue_adj = multipletests(p_l, alpha=0.05, method='fdr_bh')[1]"
   ]
  },
  {
   "cell_type": "code",
   "execution_count": 84,
   "id": "5fc6b6db",
   "metadata": {
    "tags": []
   },
   "outputs": [
    {
     "data": {
      "text/html": [
       "<div>\n",
       "<style scoped>\n",
       "    .dataframe tbody tr th:only-of-type {\n",
       "        vertical-align: middle;\n",
       "    }\n",
       "\n",
       "    .dataframe tbody tr th {\n",
       "        vertical-align: top;\n",
       "    }\n",
       "\n",
       "    .dataframe thead th {\n",
       "        text-align: right;\n",
       "    }\n",
       "</style>\n",
       "<table border=\"1\" class=\"dataframe\">\n",
       "  <thead>\n",
       "    <tr style=\"text-align: right;\">\n",
       "      <th></th>\n",
       "      <th>lr_pairs</th>\n",
       "      <th>lr_likellihood_mut_mean</th>\n",
       "      <th>lr_likellihood_wt_mean</th>\n",
       "      <th>log10_fc</th>\n",
       "      <th>Wilcoxon</th>\n",
       "      <th>Wilcoxon_adj_pvalue</th>\n",
       "    </tr>\n",
       "  </thead>\n",
       "  <tbody>\n",
       "    <tr>\n",
       "      <th>0</th>\n",
       "      <td>Dll4_Notch2</td>\n",
       "      <td>0.095345</td>\n",
       "      <td>0.150752</td>\n",
       "      <td>-0.198962</td>\n",
       "      <td>0.317311</td>\n",
       "      <td>0.528851</td>\n",
       "    </tr>\n",
       "    <tr>\n",
       "      <th>1</th>\n",
       "      <td>Kitl_Kit</td>\n",
       "      <td>0.160529</td>\n",
       "      <td>0.176196</td>\n",
       "      <td>-0.040445</td>\n",
       "      <td>0.741634</td>\n",
       "      <td>0.827259</td>\n",
       "    </tr>\n",
       "    <tr>\n",
       "      <th>2</th>\n",
       "      <td>Efnb2_Ephb4</td>\n",
       "      <td>0.134974</td>\n",
       "      <td>0.099870</td>\n",
       "      <td>0.130813</td>\n",
       "      <td>0.220671</td>\n",
       "      <td>0.528851</td>\n",
       "    </tr>\n",
       "    <tr>\n",
       "      <th>3</th>\n",
       "      <td>Dll1_Notch2</td>\n",
       "      <td>0.181629</td>\n",
       "      <td>0.181650</td>\n",
       "      <td>-0.000051</td>\n",
       "      <td>0.827259</td>\n",
       "      <td>0.827259</td>\n",
       "    </tr>\n",
       "    <tr>\n",
       "      <th>4</th>\n",
       "      <td>Jag1_Notch2</td>\n",
       "      <td>0.095150</td>\n",
       "      <td>0.126022</td>\n",
       "      <td>-0.122040</td>\n",
       "      <td>0.112351</td>\n",
       "      <td>0.528851</td>\n",
       "    </tr>\n",
       "  </tbody>\n",
       "</table>\n",
       "</div>"
      ],
      "text/plain": [
       "      lr_pairs  lr_likellihood_mut_mean  lr_likellihood_wt_mean  log10_fc  \\\n",
       "0  Dll4_Notch2                 0.095345                0.150752 -0.198962   \n",
       "1     Kitl_Kit                 0.160529                0.176196 -0.040445   \n",
       "2  Efnb2_Ephb4                 0.134974                0.099870  0.130813   \n",
       "3  Dll1_Notch2                 0.181629                0.181650 -0.000051   \n",
       "4  Jag1_Notch2                 0.095150                0.126022 -0.122040   \n",
       "\n",
       "   Wilcoxon  Wilcoxon_adj_pvalue  \n",
       "0  0.317311             0.528851  \n",
       "1  0.741634             0.827259  \n",
       "2  0.220671             0.528851  \n",
       "3  0.827259             0.827259  \n",
       "4  0.112351             0.528851  "
      ]
     },
     "execution_count": 84,
     "metadata": {},
     "output_type": "execute_result"
    }
   ],
   "source": [
    "df_summary = pd.DataFrame({'lr_pairs': fold_change.keys(),'lr_likellihood_mut_mean':likeli_mut.values(),\\\n",
    "                           'lr_likellihood_wt_mean':likeli_wt.values(),\\\n",
    "                           'log10_fc':fold_change.values(), 'Wilcoxon': pvalue_dic.values(), 'Wilcoxon_adj_pvalue': pvalue_adj})\n",
    "df_summary"
   ]
  },
  {
   "cell_type": "code",
   "execution_count": 106,
   "id": "c61406f4-7aa9-48ba-8d8d-55a769551966",
   "metadata": {},
   "outputs": [],
   "source": [
    "#permutation test \n",
    "it_n = 20\n",
    "#for fov in range(it_n):\n",
    "for fov in [9]:\n",
    "    print(fov)\n",
    "    #clustering result\n",
    "    cluster_df = pd.DataFrame(np.load(datap+'example/output/clustering/'+group+'_fov_'+str(fov)+'_dbscan.cell.clusters.test.npy',allow_pickle=True))\n",
    "    cluster_df.columns = ['cell_type','cell_idx']\n",
    "    \n",
    "    #coordinates\n",
    "    meta_df_fov = meta_df[meta_df['fov']==fov]\n",
    "    meta_df_fov.index = range(meta_df_fov.shape[0])\n",
    "    cell_id_all = np.array(range(meta_df_fov.shape[0]))\n",
    "    coord = np.array(meta_df_fov[['x_positions','y_positions']])\n",
    "    S_all_arr = distance_matrix(coord,coord)\n",
    "    \n",
    "    #expression\n",
    "    exp_df_fov = exp_df[exp_df['fov']==fov].iloc[:,2:]\n",
    "    exp_df_fov = exp_df_fov/df_quantile\n",
    "    exp_df_fov[exp_df_fov>1] = 1\n",
    "    exp_df_fov.index = cell_id_all\n",
    "\n",
    "    #get permutated positions and expression\n",
    "    random_pos, shuffled_exp = dbscan_ot.permutation_test(coord,int(it_n))\n",
    "\n",
    "    #select potentially communicating cell cluster pairs (spatially adjacent)\n",
    "    S_all_arr_new = dbscan_ot.sel_pot_inter_cluster_pairs(S_all_arr,cluster_df)\n",
    "    \n",
    "    final_summary = pd.DataFrame([])\n",
    "    for i_n in range(int(it_n)):\n",
    "        exp_df_permu = exp_df_fov.loc[list(shuffled_exp.iloc[:,i_n])]\n",
    "        coord_permu = np.array(random_pos.iloc[:,i_n:i_n+2])\n",
    "        S_all_arr_permu = distance_matrix(coord_permu,coord_permu)\n",
    "        mask = np.where(S_all_arr_new==np.inf)\n",
    "        S_all_arr_permu[mask] = np.inf\n",
    "        S_all_arr_permu = S_all_arr_permu\n",
    "        \n",
    "        #optimal transport\n",
    "        ga_df_permu = dbscan_ot.source_target_ot(S_all_arr_permu, exp_df_permu, meta_df_fov, known_lr_pairs)\n",
    "        \n",
    "        if ga_df_permu.shape[0]>0:\n",
    "            ga_df_permu.columns = ['source_cell_idx','receptor_cell_idx','likelihood','ligand_recptor','source_cell_type','target_cell_type']\n",
    "            ga_df_permu.to_csv(datap+'example/output/permutation/'+group+'_fov_'+str(fov)+\".permu.csv\",header = True, index = False, sep = \"\\t\")\n",
    "\n",
    "\n",
    "            #post-processing ot results by calculating averaged likelihoods\n",
    "            ga_df_permu['cell_pairs'] = ga_df_permu['source_cell_type']+\"_\"+ga_df_permu['target_cell_type']\n",
    "            final_summary_tmp = dbscan_ot.post_ot(ga_df_permu, label=group, it_n_label = i_n)\n",
    "            final_summary = pd.concat([final_summary,final_summary_tmp])\n",
    "    \n",
    "    final_summary.to_csv(datap+'example/output/permutation/summary/'+group+'_fov_'+str(fov)+\".permu.csv\",header = True, index = False, sep = \"\\t\")"
   ]
  },
  {
   "cell_type": "code",
   "execution_count": 107,
   "id": "c4f4c3f6-5fe7-4757-8042-7a522f7f445e",
   "metadata": {},
   "outputs": [],
   "source": [
    "###########summary for permutation test\n",
    "it_n = 20\n",
    "#group = 'wt'\n",
    "group = 'mut'\n",
    "c_t_1 = 'Hepatocyte'\n",
    "c_t_2 = 'Erythroidpro'\n",
    "\n",
    "\n",
    "df_ot = pd.DataFrame([])\n",
    "df_permu = pd.DataFrame([])\n",
    "\n",
    "compare_dic ={}\n",
    "for fov in range(it_n):\n",
    "    \n",
    "    #import ot result\n",
    "    df_ot_tmp = read_data(datap+'example/output/ot/summary/'+label+'_fov_'+str(fov)+\".ot.csv\")\n",
    "    if df_summary_tmp.shape[0]>0:\n",
    "        df_ot = pd.concat([df_ot,df_ot_tmp])\n",
    "    \n",
    "    #import permutation result\n",
    "    df_permu_tmp = read_data(datap+'example/output/permutation/summary/'+group+'_fov_'+str(fov)+\".permu.csv\")\n",
    "    if df_permu_tmp.shape[0]>0:\n",
    "        df_permu = pd.concat([df_permu,df_permu_tmp])\n",
    "        \n",
    "df_ot['lr_pairs'] = [x.split('|')[0] for x in df_ot['label']]\n",
    "df_ot['cell_pairs'] = [x.split('|')[2] for x in df_ot['label']]  \n",
    "\n",
    "df_permu['it_n'] = [x.split('|')[-1] for x in df_permu['label']]\n",
    "df_permu['lr_pairs'] = [x.split('|')[0] for x in df_permu['label']]\n",
    "df_permu['label_new'] = df_permu['lr_pairs']+\"|\"+df_permu['it_n'].map(str)\n",
    "df_permu['cell_pairs'] = [x.split('|')[2] for x in df_permu['label']]\n",
    "\n",
    "\n",
    "c_t_p = c_t_1+\"_\"+c_t_2\n",
    "df_ot_tmp = df_ot[df_ot['cell_pairs'] == c_t_p]\n",
    "df_permu_tmp = df_permu[df_permu['cell_pairs'] == c_t_p]\n",
    "\n",
    "if df_permu_tmp.shape[0]>0:\n",
    "    df_ot_groupby = df_ot_tmp.groupby(['label'])['ave_likelihood'].sum().to_frame().reset_index()\n",
    "    df_ot_groupby.index = [x.split('|')[0] for x in df_ot_groupby['label']]\n",
    "    df_permu_groupby = df_permu_tmp.groupby(['label_new'])['ave_likelihood'].sum()\n",
    "\n",
    "    for i in df_ot_groupby.index:\n",
    "        compare_dic[i+\"|\"+group+\"|\"+c_t_p] = 0\n",
    "        df_permu_groupby_sel = df_permu_groupby[df_permu_groupby.index.str.contains(i+\"\\|\")]\n",
    "        for j in df_permu_groupby_sel:\n",
    "            if j > df_ot_groupby.loc[i,'ave_likelihood']:\n",
    "                compare_dic[i+\"|\"+group+\"|\"+c_t_p] += 1/it_n\n",
    "                        \n",
    "p_l = [round(x,3) for x in compare_dic.values()]\n",
    "pvalue_adj = multipletests(p_l, alpha=0.05, method='fdr_bh')[1]\n",
    "pvalue_adj = [round(x,3) for x in pvalue_adj]"
   ]
  },
  {
   "cell_type": "code",
   "execution_count": 108,
   "id": "41e80735-001b-422b-be35-46345d78c20a",
   "metadata": {},
   "outputs": [
    {
     "data": {
      "text/plain": [
       "{'Angpt2_Tek|mut|Hepatocyte_Erythroidpro': 0.9500000000000003,\n",
       " 'Dll1_Notch1|mut|Hepatocyte_Erythroidpro': 0.15000000000000002,\n",
       " 'Dll1_Notch2|mut|Hepatocyte_Erythroidpro': 0,\n",
       " 'Dll1_Notch4|mut|Hepatocyte_Erythroidpro': 0,\n",
       " 'Dll4_Notch2|mut|Hepatocyte_Erythroidpro': 0.3,\n",
       " 'Efnb2_Ephb4|mut|Hepatocyte_Erythroidpro': 0.7500000000000001,\n",
       " 'Jag1_Notch2|mut|Hepatocyte_Erythroidpro': 0,\n",
       " 'Jag1_Notch4|mut|Hepatocyte_Erythroidpro': 0.35,\n",
       " 'Jag2_Notch1|mut|Hepatocyte_Erythroidpro': 0.44999999999999996,\n",
       " 'Jag2_Notch2|mut|Hepatocyte_Erythroidpro': 0,\n",
       " 'Jag2_Notch4|mut|Hepatocyte_Erythroidpro': 0.35,\n",
       " 'Kitl_Kit|mut|Hepatocyte_Erythroidpro': 0}"
      ]
     },
     "execution_count": 108,
     "metadata": {},
     "output_type": "execute_result"
    }
   ],
   "source": [
    "compare_dic"
   ]
  },
  {
   "cell_type": "code",
   "execution_count": 133,
   "id": "83c8a6e3-fcc8-4f58-b4e6-07d46d86eecb",
   "metadata": {},
   "outputs": [
    {
     "name": "stdout",
     "output_type": "stream",
     "text": [
      "0\n"
     ]
    },
    {
     "data": {
      "image/png": "[encoded data removed]",
      "text/plain": [
       "<Figure size 504x360 with 1 Axes>"
      ]
     },
     "metadata": {},
     "output_type": "display_data"
    }
   ],
   "source": [
    "#visualization of LR paris in FOVs\n",
    "group = 'mut'\n",
    "\n",
    "source_ct = 'Hepatocyte'\n",
    "target_ct = 'Erythroidpro'\n",
    "\n",
    "l_gene = 'Kitl'\n",
    "r_gene = 'Kit'\n",
    "\n",
    "#for fov in set(meta_df['fov']):\n",
    "for fov in [0]:\n",
    "    meta_df_fov = meta_df[meta_df['fov']==fov]\n",
    "    meta_df_fov.index = range(meta_df_fov.shape[0])\n",
    "    df_summary_tmp = read_data(datap+'example/output/ot/'+group+'_fov_'+str(fov)+\".ot.csv\")\n",
    "    if df_summary_tmp.shape[0]>0:\n",
    "        df_sel = df_summary_tmp[df_summary_tmp['source_cell_type']==source_ct]\n",
    "        df_sel = df_sel[df_sel['target_cell_type']==target_ct]\n",
    "        df_sel = df_sel[df_sel['ligand_recptor']==l_gene+'_'+r_gene]\n",
    "        if df_sel.shape[0]>=5:\n",
    "            print(fov)\n",
    "            exp_df_fov = exp_df[exp_df['fov']==fov].iloc[:,2:]\n",
    "            exp_df_fov = exp_df_fov/df_quantile\n",
    "            exp_df_fov[exp_df_fov>1]=1\n",
    "            exp_df_fov.index = range(meta_df_fov.shape[0])\n",
    "\n",
    "            #idx\n",
    "            l_id_sel = df_sel['source_cell_idx']\n",
    "            r_id_sel = df_sel['receptor_cell_idx']\n",
    "            #exp\n",
    "            l_exp_sel = exp_df_fov.loc[l_id_sel][l_gene]\n",
    "            r_exp_sel = exp_df_fov.loc[r_id_sel][r_gene]\n",
    "            #coordinates\n",
    "            l_pos = np.array(meta_df_fov.loc[l_id_sel][['x_positions','y_positions']])\n",
    "            r_pos = np.array(meta_df_fov.loc[r_id_sel][['x_positions','y_positions']])\n",
    "\n",
    "\n",
    "\n",
    "            l_id_all = meta_df_fov[meta_df_fov['annotation']==source_ct].index\n",
    "            r_id_all = meta_df_fov[meta_df_fov['annotation']==target_ct].index\n",
    "            l_exp_all = exp_df_fov.loc[l_id_all][l_gene]\n",
    "            r_exp_all = exp_df_fov.loc[r_id_all][r_gene]\n",
    "            l_uniq_pos = meta_df_fov.loc[l_id_all][['x_positions','y_positions']].values\n",
    "            r_uniq_pos = meta_df_fov.loc[r_id_all][['x_positions','y_positions']].values\n",
    "\n",
    "\n",
    "            plt.figure(figsize=(7,5))\n",
    "            ax1 = plt.scatter(l_pos[:,0],l_pos[:,1],c = 'orange',s = (15*l_exp_sel)**2,label = l_gene,alpha = 1,zorder=2)\n",
    "            ax2 = plt.scatter(r_pos[:,0],r_pos[:,1],c = 'blue',s = (15*r_exp_sel)**2,label = r_gene,alpha = 1,zorder=3)\n",
    "            ax3 = plt.scatter(l_uniq_pos[:,0],l_uniq_pos[:,1],c = 'orange',s = (15*l_exp_all)**2,alpha = 0.15)\n",
    "            ax4 = plt.scatter(r_uniq_pos[:,0],r_uniq_pos[:,1],c = 'blue',s = (15*r_exp_all)**2,alpha = 0.15)\n",
    "\n",
    "            G = list(df_sel['likelihood'])\n",
    "            ax = plt.axes()\n",
    "            all_curves = dbscan_ot.curved_edges(l_pos,r_pos)\n",
    "            for n,i in enumerate(list(range(l_pos.shape[0]))):\n",
    "                lc = LineCollection([all_curves[i]], colors='black',alpha = np.min([G[n]/np.quantile(G,q=0.9),1]), zorder=0)\n",
    "                ax.add_collection(lc)\n",
    "\n",
    "\n",
    "\n",
    "            plt.title(group+\"_fov_\"+str(fov)+\"\\n\",fontweight=\"bold\")\n",
    "            plt.tick_params(\n",
    "                axis='both',         \n",
    "                which='both',\n",
    "                bottom=False,    \n",
    "                left=False,  \n",
    "                labelleft=False,\n",
    "                labelbottom=False)\n",
    "            kw = dict(prop=\"sizes\", num=4,func=lambda s: np.sqrt(s)/15,color ='blue',alpha=0.8)\n",
    "            plt.legend(*ax1.legend_elements(**kw),bbox_to_anchor=(1.5,1))\n",
    "            #kw = dict(prop=\"sizes\", num=4,func=lambda s: np.sqrt(s)/15,color ='orange',alpha=0.8)\n",
    "            #plt.legend(*ax2.legend_elements(**kw),bbox_to_anchor=(1.5,1))\n",
    "            plt.tight_layout()\n",
    "            \n",
    "            #plt.savefig(datap+'/example/output/Figs/'+group+\"_fov_\"+str(fov)+'_'+source_ct+\"_\"+target_ct+'.spatail.pdf',dpi=100)\n",
    "            plt.show()"
   ]
  },
  {
   "cell_type": "code",
   "execution_count": null,
   "id": "12c48798-7209-46ac-8051-177ddb51f4ac",
   "metadata": {},
   "outputs": [],
   "source": []
  }
 ],
 "metadata": {
  "celltoolbar": "Tags",
  "kernelspec": {
   "display_name": "Python [conda env:anaconda3-ssam]",
   "language": "python",
   "name": "conda-env-anaconda3-ssam-py"
  },
  "language_info": {
   "codemirror_mode": {
    "name": "ipython",
    "version": 3
   },
   "file_extension": ".py",
   "mimetype": "text/x-python",
   "name": "python",
   "nbconvert_exporter": "python",
   "pygments_lexer": "ipython3",
   "version": "3.6.13"
  }
 },
 "nbformat": 4,
 "nbformat_minor": 5
}
